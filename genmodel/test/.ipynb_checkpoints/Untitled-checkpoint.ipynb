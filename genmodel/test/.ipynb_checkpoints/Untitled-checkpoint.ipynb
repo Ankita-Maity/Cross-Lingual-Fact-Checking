{
nkita
nkita
nkita
 "cells": [
nkita
nkita
nkita
  {
nkita
nkita
nkita
   "cell_type": "code",
nkita
nkita
nkita
   "execution_count": 21,
nkita
nkita
nkita
   "id": "79b97be2",
nkita
nkita
nkita
   "metadata": {},
nkita
nkita
nkita
   "outputs": [],
nkita
nkita
nkita
   "source": [
nkita
nkita
nkita
    "import os\n",
nkita
nkita
nkita
    "import ast\n",
nkita
nkita
nkita
    "import json\n",
nkita
nkita
nkita
    "import pandas as pd"
nkita
nkita
nkita
   ]
nkita
nkita
nkita
  },
nkita
nkita
nkita
  {
nkita
nkita
nkita
   "cell_type": "code",
nkita
nkita
nkita
   "execution_count": 4,
nkita
nkita
nkita
   "id": "4ab40a22",
nkita
nkita
nkita
   "metadata": {},
nkita
nkita
nkita
   "outputs": [],
nkita
nkita
nkita
   "source": [
nkita
nkita
nkita
    "fnames = [f for f in os.listdir('./GPT/outputs')]"
nkita
nkita
nkita
   ]
nkita
nkita
nkita
  },
nkita
nkita
nkita
  {
nkita
nkita
nkita
   "cell_type": "code",
nkita
nkita
nkita
   "execution_count": 27,
nkita
nkita
nkita
   "id": "0da804c0",
nkita
nkita
nkita
   "metadata": {},
nkita
nkita
nkita
   "outputs": [
nkita
nkita
nkita
    {
nkita
nkita
nkita
     "name": "stdout",
nkita
nkita
nkita
     "output_type": "stream",
nkita
nkita
nkita
     "text": [
nkita
nkita
nkita
      "hi 413 406\n",
nkita
nkita
nkita
      "bn 564 194\n",
nkita
nkita
nkita
      "or 195 184\n",
nkita
nkita
nkita
      "pa 234 234\n",
nkita
nkita
nkita
      "en 50 50\n",
nkita
nkita
nkita
      "ta 378 315\n"
nkita
nkita
nkita
     ]
nkita
nkita
nkita
    }
nkita
nkita
nkita
   ],
nkita
nkita
nkita
   "source": [
nkita
nkita
nkita
    "for fn in fnames:\n",
nkita
nkita
nkita
    "    ln = fn[:2]\n",
nkita
nkita
nkita
    "    df = pd.read_csv(f'./GPT/outputs/{fn}', sep='\\t')\n",
nkita
nkita
nkita
    "    un = df['sentence'].unique()\n",
nkita
nkita
nkita
    "    print(ln, len(df), len(un))\n",
nkita
nkita
nkita
    "#     for idx, row in df.iterrows():\n",
nkita
nkita
nkita
    "#         t = row['GPTXResult'][:-10]\n",
nkita
nkita
nkita
    "#         obj = ast.literal_eval(t)\n",
nkita
nkita
nkita
    "#         print(row)\n",
nkita
nkita
nkita
    "#         break\n",
nkita
nkita
nkita
    "#     break"
nkita
nkita
nkita
   ]
nkita
nkita
nkita
  },
nkita
nkita
nkita
  {
nkita
nkita
nkita
   "cell_type": "code",
nkita
nkita
nkita
   "execution_count": null,
nkita
nkita
nkita
   "id": "1987a75c",
nkita
nkita
nkita
   "metadata": {},
nkita
nkita
nkita
   "outputs": [],
nkita
nkita
nkita
   "source": []
nkita
nkita
nkita
  }
nkita
nkita
nkita
 ],
nkita
nkita
nkita
 "metadata": {
nkita
nkita
nkita
  "kernelspec": {
nkita
nkita
nkita
   "display_name": "Python 3 (ipykernel)",
nkita
nkita
nkita
   "language": "python",
nkita
nkita
nkita
   "name": "python3"
nkita
nkita
nkita
  },
nkita
nkita
nkita
  "language_info": {
nkita
nkita
nkita
   "codemirror_mode": {
nkita
nkita
nkita
    "name": "ipython",
nkita
nkita
nkita
    "version": 3
nkita
nkita
nkita
   },
nkita
nkita
nkita
   "file_extension": ".py",
nkita
nkita
nkita
   "mimetype": "text/x-python",
nkita
nkita
nkita
   "name": "python",
nkita
nkita
nkita
   "nbconvert_exporter": "python",
nkita
nkita
nkita
   "pygments_lexer": "ipython3",
nkita
nkita
nkita
   "version": "3.9.7"
nkita
nkita
nkita
  }
nkita
nkita
nkita
 },
nkita
nkita
nkita
 "nbformat": 4,
nkita
nkita
nkita
 "nbformat_minor": 5
nkita
nkita
nkita
}
nkita
nkita
nkita
