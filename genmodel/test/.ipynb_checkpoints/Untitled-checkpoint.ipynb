{



 "cells": [



  {



   "cell_type": "code",



   "execution_count": 21,



   "id": "79b97be2",



   "metadata": {},



   "outputs": [],



   "source": [



    "import os\n",



    "import ast\n",



    "import json\n",



    "import pandas as pd"



   ]



  },



  {



   "cell_type": "code",



   "execution_count": 4,



   "id": "4ab40a22",



   "metadata": {},



   "outputs": [],



   "source": [



    "fnames = [f for f in os.listdir('./GPT/outputs')]"



   ]



  },



  {



   "cell_type": "code",



   "execution_count": 27,



   "id": "0da804c0",



   "metadata": {},



   "outputs": [



    {



     "name": "stdout",



     "output_type": "stream",



     "text": [



      "hi 413 406\n",



      "bn 564 194\n",



      "or 195 184\n",



      "pa 234 234\n",



      "en 50 50\n",



      "ta 378 315\n"



     ]



    }



   ],



   "source": [



    "for fn in fnames:\n",



    "    ln = fn[:2]\n",



    "    df = pd.read_csv(f'./GPT/outputs/{fn}', sep='\\t')\n",



    "    un = df['sentence'].unique()\n",



    "    print(ln, len(df), len(un))\n",



    "#     for idx, row in df.iterrows():\n",



    "#         t = row['GPTXResult'][:-10]\n",



    "#         obj = ast.literal_eval(t)\n",



    "#         print(row)\n",



    "#         break\n",



    "#     break"



   ]



  },



  {



   "cell_type": "code",



   "execution_count": null,



   "id": "1987a75c",



   "metadata": {},



   "outputs": [],



   "source": []



  }



 ],



 "metadata": {



  "kernelspec": {



   "display_name": "Python 3 (ipykernel)",



   "language": "python",



   "name": "python3"



  },



  "language_info": {



   "codemirror_mode": {



    "name": "ipython",



    "version": 3



   },



   "file_extension": ".py",



   "mimetype": "text/x-python",



   "name": "python",



   "nbconvert_exporter": "python",



   "pygments_lexer": "ipython3",



   "version": "3.9.7"



  }



 },



 "nbformat": 4,



 "nbformat_minor": 5



}



