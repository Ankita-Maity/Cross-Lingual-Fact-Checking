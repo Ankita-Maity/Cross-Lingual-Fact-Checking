{
nkita
nkita
nkita
 "cells": [
nkita
nkita
nkita
  {
nkita
nkita
nkita
   "cell_type": "code",
nkita
nkita
nkita
   "execution_count": 1,
nkita
nkita
nkita
   "metadata": {},
nkita
nkita
nkita
   "outputs": [
nkita
nkita
nkita
    {
nkita
nkita
nkita
     "name": "stderr",
nkita
nkita
nkita
     "output_type": "stream",
nkita
nkita
nkita
     "text": [
nkita
nkita
nkita
      "2023-11-07 13:16:29.594569: I tensorflow/core/platform/cpu_feature_guard.cc:193] This TensorFlow binary is optimized with oneAPI Deep Neural Network Library (oneDNN) to use the following CPU instructions in performance-critical operations:  AVX2 FMA\n",
nkita
nkita
nkita
      "To enable them in other operations, rebuild TensorFlow with the appropriate compiler flags.\n",
nkita
nkita
nkita
      "2023-11-07 13:16:29.783015: E tensorflow/stream_executor/cuda/cuda_blas.cc:2981] Unable to register cuBLAS factory: Attempting to register factory for plugin cuBLAS when one has already been registered\n",
nkita
nkita
nkita
      "2023-11-07 13:16:31.567240: W tensorflow/stream_executor/platform/default/dso_loader.cc:64] Could not load dynamic library 'libnvinfer.so.7'; dlerror: libnvinfer.so.7: cannot open shared object file: No such file or directory\n",
nkita
nkita
nkita
      "2023-11-07 13:16:31.567359: W tensorflow/stream_executor/platform/default/dso_loader.cc:64] Could not load dynamic library 'libnvinfer_plugin.so.7'; dlerror: libnvinfer_plugin.so.7: cannot open shared object file: No such file or directory\n",
nkita
nkita
nkita
      "2023-11-07 13:16:31.567373: W tensorflow/compiler/tf2tensorrt/utils/py_utils.cc:38] TF-TRT Warning: Cannot dlopen some TensorRT libraries. If you would like to use Nvidia GPU with TensorRT, please make sure the missing libraries mentioned above are installed properly.\n"
nkita
nkita
nkita
     ]
nkita
nkita
nkita
    }
nkita
nkita
nkita
   ],
nkita
nkita
nkita
   "source": [
nkita
nkita
nkita
    "import json\n",
nkita
nkita
nkita
    "import pandas as pd\n",
nkita
nkita
nkita
    "import warnings\n",
nkita
nkita
nkita
    "import os\n",
nkita
nkita
nkita
    "import csv\n",
nkita
nkita
nkita
    "warnings.filterwarnings('ignore')\n",
nkita
nkita
nkita
    "from rouge import Rouge\n",
nkita
nkita
nkita
    "rouge = Rouge()\n",
nkita
nkita
nkita
    "import evaluate"
nkita
nkita
nkita
   ]
nkita
nkita
nkita
  },
nkita
nkita
nkita
  {
nkita
nkita
nkita
   "cell_type": "code",
nkita
nkita
nkita
   "execution_count": 2,
nkita
nkita
nkita
   "metadata": {},
nkita
nkita
nkita
   "outputs": [],
nkita
nkita
nkita
   "source": [
nkita
nkita
nkita
    "bertscore = evaluate.load('bertscore')"
nkita
nkita
nkita
   ]
nkita
nkita
nkita
  },
nkita
nkita
nkita
  {
nkita
nkita
nkita
   "cell_type": "code",
nkita
nkita
nkita
   "execution_count": 8,
nkita
nkita
nkita
   "metadata": {},
nkita
nkita
nkita
   "outputs": [
nkita
nkita
nkita
    {
nkita
nkita
nkita
     "name": "stdout",
nkita
nkita
nkita
     "output_type": "stream",
nkita
nkita
nkita
     "text": [
nkita
nkita
nkita
      "For language: hi, average Rouge score is: 0.8404702770852948\n",
nkita
nkita
nkita
      "For language: en, average Rouge score is: 0.7064012992780451\n",
nkita
nkita
nkita
      "For language: bn, average Rouge score is: 0.7469677275712856\n",
nkita
nkita
nkita
      "For language: ta, average Rouge score is: 0.7907256768123815\n",
nkita
nkita
nkita
      "For language: or, average Rouge score is: 0.65164845276078\n",
nkita
nkita
nkita
      "For language: pa, average Rouge score is: 0.6205017278166454\n"
nkita
nkita
nkita
     ]
nkita
nkita
nkita
    }
nkita
nkita
nkita
   ],
nkita
nkita
nkita
   "source": [
nkita
nkita
nkita
    "langScore = {'hi':[],'en':[],'bn':[],'ta':[],'or':[],'pa':[]}\n",
nkita
nkita
nkita
    "fin = open('final_article.csv', mode ='r')\n",
nkita
nkita
nkita
    "csvData = csv.reader(fin)\n",
nkita
nkita
nkita
    "for i,lineData in enumerate(csvData):\n",
nkita
nkita
nkita
    "    if i == 0:\n",
nkita
nkita
nkita
    "        continue\n",
nkita
nkita
nkita
    "    print(lineData)\n",
nkita
nkita
nkita
    "    break\n",
nkita
nkita
nkita
    "    scores = rouge.get_scores(lineData[2], lineData[3], avg=True)\n",
nkita
nkita
nkita
    "    langScore[lineData[1][:2].lower()].append(scores['rouge-2']['f'])\n",
nkita
nkita
nkita
    "fin.close()"
nkita
nkita
nkita
   ]
nkita
nkita
nkita
  },
nkita
nkita
nkita
  {
nkita
nkita
nkita
   "cell_type": "code",
nkita
nkita
nkita
   "execution_count": null,
nkita
nkita
nkita
   "metadata": {},
nkita
nkita
nkita
   "outputs": [],
nkita
nkita
nkita
   "source": [
nkita
nkita
nkita
    "\n",
nkita
nkita
nkita
    "for key in langScore.keys():\n",
nkita
nkita
nkita
    "    print(f\"For language: {key}, average Rouge score is: {sum(langScore[key])/len(langScore[key])}\")"
nkita
nkita
nkita
   ]
nkita
nkita
nkita
  },
nkita
nkita
nkita
  {
nkita
nkita
nkita
   "cell_type": "code",
nkita
nkita
nkita
   "execution_count": null,
nkita
nkita
nkita
   "metadata": {},
nkita
nkita
nkita
   "outputs": [],
nkita
nkita
nkita
   "source": []
nkita
nkita
nkita
  }
nkita
nkita
nkita
 ],
nkita
nkita
nkita
 "metadata": {
nkita
nkita
nkita
  "kernelspec": {
nkita
nkita
nkita
   "display_name": "Python 3 (ipykernel)",
nkita
nkita
nkita
   "language": "python",
nkita
nkita
nkita
   "name": "python3"
nkita
nkita
nkita
  },
nkita
nkita
nkita
  "language_info": {
nkita
nkita
nkita
   "codemirror_mode": {
nkita
nkita
nkita
    "name": "ipython",
nkita
nkita
nkita
    "version": 3
nkita
nkita
nkita
   },
nkita
nkita
nkita
   "file_extension": ".py",
nkita
nkita
nkita
   "mimetype": "text/x-python",
nkita
nkita
nkita
   "name": "python",
nkita
nkita
nkita
   "nbconvert_exporter": "python",
nkita
nkita
nkita
   "pygments_lexer": "ipython3",
nkita
nkita
nkita
   "version": "3.9.7"
nkita
nkita
nkita
  }
nkita
nkita
nkita
 },
nkita
nkita
nkita
 "nbformat": 4,
nkita
nkita
nkita
 "nbformat_minor": 2
nkita
nkita
nkita
}
nkita
nkita
nkita
