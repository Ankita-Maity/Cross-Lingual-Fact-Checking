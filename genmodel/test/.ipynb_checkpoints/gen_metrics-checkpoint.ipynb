{



 "cells": [



  {



   "cell_type": "code",



   "execution_count": 1,



   "metadata": {},



   "outputs": [



    {



     "name": "stderr",



     "output_type": "stream",



     "text": [



      "2023-11-07 13:16:29.594569: I tensorflow/core/platform/cpu_feature_guard.cc:193] This TensorFlow binary is optimized with oneAPI Deep Neural Network Library (oneDNN) to use the following CPU instructions in performance-critical operations:  AVX2 FMA\n",



      "To enable them in other operations, rebuild TensorFlow with the appropriate compiler flags.\n",



      "2023-11-07 13:16:29.783015: E tensorflow/stream_executor/cuda/cuda_blas.cc:2981] Unable to register cuBLAS factory: Attempting to register factory for plugin cuBLAS when one has already been registered\n",



      "2023-11-07 13:16:31.567240: W tensorflow/stream_executor/platform/default/dso_loader.cc:64] Could not load dynamic library 'libnvinfer.so.7'; dlerror: libnvinfer.so.7: cannot open shared object file: No such file or directory\n",



      "2023-11-07 13:16:31.567359: W tensorflow/stream_executor/platform/default/dso_loader.cc:64] Could not load dynamic library 'libnvinfer_plugin.so.7'; dlerror: libnvinfer_plugin.so.7: cannot open shared object file: No such file or directory\n",



      "2023-11-07 13:16:31.567373: W tensorflow/compiler/tf2tensorrt/utils/py_utils.cc:38] TF-TRT Warning: Cannot dlopen some TensorRT libraries. If you would like to use Nvidia GPU with TensorRT, please make sure the missing libraries mentioned above are installed properly.\n"



     ]



    }



   ],



   "source": [



    "import json\n",



    "import pandas as pd\n",



    "import warnings\n",



    "import os\n",



    "import csv\n",



    "warnings.filterwarnings('ignore')\n",



    "from rouge import Rouge\n",



    "rouge = Rouge()\n",



    "import evaluate"



   ]



  },



  {



   "cell_type": "code",



   "execution_count": 2,



   "metadata": {},



   "outputs": [],



   "source": [



    "bertscore = evaluate.load('bertscore')"



   ]



  },



  {



   "cell_type": "code",



   "execution_count": 8,



   "metadata": {},



   "outputs": [



    {



     "name": "stdout",



     "output_type": "stream",



     "text": [



      "For language: hi, average Rouge score is: 0.8404702770852948\n",



      "For language: en, average Rouge score is: 0.7064012992780451\n",



      "For language: bn, average Rouge score is: 0.7469677275712856\n",



      "For language: ta, average Rouge score is: 0.7907256768123815\n",



      "For language: or, average Rouge score is: 0.65164845276078\n",



      "For language: pa, average Rouge score is: 0.6205017278166454\n"



     ]



    }



   ],



   "source": [



    "langScore = {'hi':[],'en':[],'bn':[],'ta':[],'or':[],'pa':[]}\n",



    "fin = open('final_article.csv', mode ='r')\n",



    "csvData = csv.reader(fin)\n",



    "for i,lineData in enumerate(csvData):\n",



    "    if i == 0:\n",



    "        continue\n",



    "    print(lineData)\n",



    "    break\n",



    "    scores = rouge.get_scores(lineData[2], lineData[3], avg=True)\n",



    "    langScore[lineData[1][:2].lower()].append(scores['rouge-2']['f'])\n",



    "fin.close()"



   ]



  },



  {



   "cell_type": "code",



   "execution_count": null,



   "metadata": {},



   "outputs": [],



   "source": [



    "\n",



    "for key in langScore.keys():\n",



    "    print(f\"For language: {key}, average Rouge score is: {sum(langScore[key])/len(langScore[key])}\")"



   ]



  },



  {



   "cell_type": "code",



   "execution_count": null,



   "metadata": {},



   "outputs": [],



   "source": []



  }



 ],



 "metadata": {



  "kernelspec": {



   "display_name": "Python 3 (ipykernel)",



   "language": "python",



   "name": "python3"



  },



  "language_info": {



   "codemirror_mode": {



    "name": "ipython",



    "version": 3



   },



   "file_extension": ".py",



   "mimetype": "text/x-python",



   "name": "python",



   "nbconvert_exporter": "python",



   "pygments_lexer": "ipython3",



   "version": "3.9.7"



  }



 },



 "nbformat": 4,



 "nbformat_minor": 2



}



