{
nkita
nkita
nkita
 "cells": [
nkita
nkita
nkita
  {
nkita
nkita
nkita
   "cell_type": "code",
nkita
nkita
nkita
   "execution_count": 1,
nkita
nkita
nkita
   "id": "f399816a",
nkita
nkita
nkita
   "metadata": {},
nkita
nkita
nkita
   "outputs": [],
nkita
nkita
nkita
   "source": [
nkita
nkita
nkita
    "import pandas as pa\n",
nkita
nkita
nkita
    "import os\n",
nkita
nkita
nkita
    "import csv\n",
nkita
nkita
nkita
    "import tqdm"
nkita
nkita
nkita
   ]
nkita
nkita
nkita
  },
nkita
nkita
nkita
  {
nkita
nkita
nkita
   "cell_type": "code",
nkita
nkita
nkita
   "execution_count": 14,
nkita
nkita
nkita
   "id": "89ce4f6c",
nkita
nkita
nkita
   "metadata": {},
nkita
nkita
nkita
   "outputs": [
nkita
nkita
nkita
    {
nkita
nkita
nkita
     "name": "stdout",
nkita
nkita
nkita
     "output_type": "stream",
nkita
nkita
nkita
     "text": [
nkita
nkita
nkita
      "Files:\n",
nkita
nkita
nkita
      "['mt5_factver_inference_mt5-small.csv']\n"
nkita
nkita
nkita
     ]
nkita
nkita
nkita
    }
nkita
nkita
nkita
   ],
nkita
nkita
nkita
   "source": [
nkita
nkita
nkita
    "files_list = os.listdir('.')\n",
nkita
nkita
nkita
    "files = []\n",
nkita
nkita
nkita
    "for file in files_list:\n",
nkita
nkita
nkita
    "    if('mt5_factver' in file):\n",
nkita
nkita
nkita
    "        files.append(file)\n",
nkita
nkita
nkita
    "print(\"Files:\")\n",
nkita
nkita
nkita
    "print(files)"
nkita
nkita
nkita
   ]
nkita
nkita
nkita
  },
nkita
nkita
nkita
  {
nkita
nkita
nkita
   "cell_type": "code",
nkita
nkita
nkita
   "execution_count": 15,
nkita
nkita
nkita
   "id": "786d3915",
nkita
nkita
nkita
   "metadata": {},
nkita
nkita
nkita
   "outputs": [
nkita
nkita
nkita
    {
nkita
nkita
nkita
     "name": "stdout",
nkita
nkita
nkita
     "output_type": "stream",
nkita
nkita
nkita
     "text": [
nkita
nkita
nkita
      "['input_texts', 'lang', 'ref_text', 'pred_text']\n"
nkita
nkita
nkita
     ]
nkita
nkita
nkita
    }
nkita
nkita
nkita
   ],
nkita
nkita
nkita
   "source": [
nkita
nkita
nkita
    "title = \"\"\n",
nkita
nkita
nkita
    "for file in files:\n",
nkita
nkita
nkita
    "    with open(file, mode ='r') as fin:\n",
nkita
nkita
nkita
    "        csvData = csv.reader(fin)\n",
nkita
nkita
nkita
    "        for lineData in csvData:\n",
nkita
nkita
nkita
    "            print(lineData)\n",
nkita
nkita
nkita
    "            break"
nkita
nkita
nkita
   ]
nkita
nkita
nkita
  },
nkita
nkita
nkita
  {
nkita
nkita
nkita
   "cell_type": "code",
nkita
nkita
nkita
   "execution_count": 16,
nkita
nkita
nkita
   "id": "3341a01f",
nkita
nkita
nkita
   "metadata": {},
nkita
nkita
nkita
   "outputs": [
nkita
nkita
nkita
    {
nkita
nkita
nkita
     "name": "stderr",
nkita
nkita
nkita
     "output_type": "stream",
nkita
nkita
nkita
     "text": [
nkita
nkita
nkita
      "100%|███████████████████████████████████████████████████| 1/1 [00:00<00:00,  4.08it/s]\n",
nkita
nkita
nkita
      "100%|██████████████████████████████████████████| 4669/4669 [00:00<00:00, 70437.36it/s]\n"
nkita
nkita
nkita
     ]
nkita
nkita
nkita
    }
nkita
nkita
nkita
   ],
nkita
nkita
nkita
   "source": [
nkita
nkita
nkita
    "writeData = dict()\n",
nkita
nkita
nkita
    "titleSet = set()\n",
nkita
nkita
nkita
    "for file in tqdm.tqdm(files):\n",
nkita
nkita
nkita
    "    with open(file, mode ='r') as fin:\n",
nkita
nkita
nkita
    "        csvData = csv.reader(fin)\n",
nkita
nkita
nkita
    "        for i,lineData in enumerate(csvData):\n",
nkita
nkita
nkita
    "            if i == 0:\n",
nkita
nkita
nkita
    "                continue\n",
nkita
nkita
nkita
    "            lineTitle = lineData[0].split(' ')[1]\n",
nkita
nkita
nkita
    "            if lineTitle in titleSet:\n",
nkita
nkita
nkita
    "                writeData[lineTitle].append([lineTitle, lineData[1],lineData[3]])\n",
nkita
nkita
nkita
    "            else:\n",
nkita
nkita
nkita
    "                writeData[lineTitle] = [[lineTitle, lineData[1],lineData[3]]]\n",
nkita
nkita
nkita
    "                titleSet.add(lineTitle)\n",
nkita
nkita
nkita
    "with open('factver.csv', 'w', encoding='utf-8') as csvfile:\n",
nkita
nkita
nkita
    "    csvwriter = csv.writer(csvfile)\n",
nkita
nkita
nkita
    "    for key in tqdm.tqdm(writeData.keys()):\n",
nkita
nkita
nkita
    "        csvwriter.writerows(writeData[key])            "
nkita
nkita
nkita
   ]
nkita
nkita
nkita
  }
nkita
nkita
nkita
 ],
nkita
nkita
nkita
 "metadata": {
nkita
nkita
nkita
  "kernelspec": {
nkita
nkita
nkita
   "display_name": "Python 3 (ipykernel)",
nkita
nkita
nkita
   "language": "python",
nkita
nkita
nkita
   "name": "python3"
nkita
nkita
nkita
  },
nkita
nkita
nkita
  "language_info": {
nkita
nkita
nkita
   "codemirror_mode": {
nkita
nkita
nkita
    "name": "ipython",
nkita
nkita
nkita
    "version": 3
nkita
nkita
nkita
   },
nkita
nkita
nkita
   "file_extension": ".py",
nkita
nkita
nkita
   "mimetype": "text/x-python",
nkita
nkita
nkita
   "name": "python",
nkita
nkita
nkita
   "nbconvert_exporter": "python",
nkita
nkita
nkita
   "pygments_lexer": "ipython3",
nkita
nkita
nkita
   "version": "3.9.7"
nkita
nkita
nkita
  }
nkita
nkita
nkita
 },
nkita
nkita
nkita
 "nbformat": 4,
nkita
nkita
nkita
 "nbformat_minor": 5
nkita
nkita
nkita
}
nkita
nkita
nkita
