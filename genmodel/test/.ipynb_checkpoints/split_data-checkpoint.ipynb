{



 "cells": [



  {



   "cell_type": "code",



   "execution_count": 1,



   "id": "f399816a",



   "metadata": {},



   "outputs": [],



   "source": [



    "import pandas as pa\n",



    "import os\n",



    "import csv\n",



    "import tqdm"



   ]



  },



  {



   "cell_type": "code",



   "execution_count": 14,



   "id": "89ce4f6c",



   "metadata": {},



   "outputs": [



    {



     "name": "stdout",



     "output_type": "stream",



     "text": [



      "Files:\n",



      "['mt5_factver_inference_mt5-small.csv']\n"



     ]



    }



   ],



   "source": [



    "files_list = os.listdir('.')\n",



    "files = []\n",



    "for file in files_list:\n",



    "    if('mt5_factver' in file):\n",



    "        files.append(file)\n",



    "print(\"Files:\")\n",



    "print(files)"



   ]



  },



  {



   "cell_type": "code",



   "execution_count": 15,



   "id": "786d3915",



   "metadata": {},



   "outputs": [



    {



     "name": "stdout",



     "output_type": "stream",



     "text": [



      "['input_texts', 'lang', 'ref_text', 'pred_text']\n"



     ]



    }



   ],



   "source": [



    "title = \"\"\n",



    "for file in files:\n",



    "    with open(file, mode ='r') as fin:\n",



    "        csvData = csv.reader(fin)\n",



    "        for lineData in csvData:\n",



    "            print(lineData)\n",



    "            break"



   ]



  },



  {



   "cell_type": "code",



   "execution_count": 16,



   "id": "3341a01f",



   "metadata": {},



   "outputs": [



    {



     "name": "stderr",



     "output_type": "stream",



     "text": [



      "100%|███████████████████████████████████████████████████| 1/1 [00:00<00:00,  4.08it/s]\n",



      "100%|██████████████████████████████████████████| 4669/4669 [00:00<00:00, 70437.36it/s]\n"



     ]



    }



   ],



   "source": [



    "writeData = dict()\n",



    "titleSet = set()\n",



    "for file in tqdm.tqdm(files):\n",



    "    with open(file, mode ='r') as fin:\n",



    "        csvData = csv.reader(fin)\n",



    "        for i,lineData in enumerate(csvData):\n",



    "            if i == 0:\n",



    "                continue\n",



    "            lineTitle = lineData[0].split(' ')[1]\n",



    "            if lineTitle in titleSet:\n",



    "                writeData[lineTitle].append([lineTitle, lineData[1],lineData[3]])\n",



    "            else:\n",



    "                writeData[lineTitle] = [[lineTitle, lineData[1],lineData[3]]]\n",



    "                titleSet.add(lineTitle)\n",



    "with open('factver.csv', 'w', encoding='utf-8') as csvfile:\n",



    "    csvwriter = csv.writer(csvfile)\n",



    "    for key in tqdm.tqdm(writeData.keys()):\n",



    "        csvwriter.writerows(writeData[key])            "



   ]



  }



 ],



 "metadata": {



  "kernelspec": {



   "display_name": "Python 3 (ipykernel)",



   "language": "python",



   "name": "python3"



  },



  "language_info": {



   "codemirror_mode": {



    "name": "ipython",



    "version": 3



   },



   "file_extension": ".py",



   "mimetype": "text/x-python",



   "name": "python",



   "nbconvert_exporter": "python",



   "pygments_lexer": "ipython3",



   "version": "3.9.7"



  }



 },



 "nbformat": 4,



 "nbformat_minor": 5



}



