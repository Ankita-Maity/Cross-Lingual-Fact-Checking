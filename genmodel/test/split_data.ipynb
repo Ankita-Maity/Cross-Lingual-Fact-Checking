{
nkita
nkita
nkita
 "cells": [
nkita
nkita
nkita
  {
nkita
nkita
nkita
   "cell_type": "code",
nkita
nkita
nkita
   "execution_count": 1,
nkita
nkita
nkita
   "id": "f399816a",
nkita
nkita
nkita
   "metadata": {},
nkita
nkita
nkita
   "outputs": [],
nkita
nkita
nkita
   "source": [
nkita
nkita
nkita
    "import pandas as pa\n",
nkita
nkita
nkita
    "import os\n",
nkita
nkita
nkita
    "import csv\n",
nkita
nkita
nkita
    "import tqdm\n",
nkita
nkita
nkita
    "import string\n",
nkita
nkita
nkita
    "import re"
nkita
nkita
nkita
   ]
nkita
nkita
nkita
  },
nkita
nkita
nkita
  {
nkita
nkita
nkita
   "cell_type": "markdown",
nkita
nkita
nkita
   "metadata": {},
nkita
nkita
nkita
   "source": [
nkita
nkita
nkita
    "### Merge data from mt5_intersection and mt5_factver to one file"
nkita
nkita
nkita
   ]
nkita
nkita
nkita
  },
nkita
nkita
nkita
  {
nkita
nkita
nkita
   "cell_type": "code",
nkita
nkita
nkita
   "execution_count": 14,
nkita
nkita
nkita
   "id": "89ce4f6c",
nkita
nkita
nkita
   "metadata": {},
nkita
nkita
nkita
   "outputs": [
nkita
nkita
nkita
    {
nkita
nkita
nkita
     "name": "stdout",
nkita
nkita
nkita
     "output_type": "stream",
nkita
nkita
nkita
     "text": [
nkita
nkita
nkita
      "Files:\n",
nkita
nkita
nkita
      "['mt5_factver_inference_mt5-small.csv']\n"
nkita
nkita
nkita
     ]
nkita
nkita
nkita
    }
nkita
nkita
nkita
   ],
nkita
nkita
nkita
   "source": [
nkita
nkita
nkita
    "files_list = os.listdir('.')\n",
nkita
nkita
nkita
    "files = []\n",
nkita
nkita
nkita
    "for file in files_list:\n",
nkita
nkita
nkita
    "    if('mt5_factver' in file):\n",
nkita
nkita
nkita
    "        files.append(file)\n",
nkita
nkita
nkita
    "print(\"Files:\")\n",
nkita
nkita
nkita
    "print(files)"
nkita
nkita
nkita
   ]
nkita
nkita
nkita
  },
nkita
nkita
nkita
  {
nkita
nkita
nkita
   "cell_type": "code",
nkita
nkita
nkita
   "execution_count": 15,
nkita
nkita
nkita
   "id": "786d3915",
nkita
nkita
nkita
   "metadata": {},
nkita
nkita
nkita
   "outputs": [
nkita
nkita
nkita
    {
nkita
nkita
nkita
     "name": "stdout",
nkita
nkita
nkita
     "output_type": "stream",
nkita
nkita
nkita
     "text": [
nkita
nkita
nkita
      "['input_texts', 'lang', 'ref_text', 'pred_text']\n"
nkita
nkita
nkita
     ]
nkita
nkita
nkita
    }
nkita
nkita
nkita
   ],
nkita
nkita
nkita
   "source": [
nkita
nkita
nkita
    "title = \"\"\n",
nkita
nkita
nkita
    "for file in files:\n",
nkita
nkita
nkita
    "    with open(file, mode ='r') as fin:\n",
nkita
nkita
nkita
    "        csvData = csv.reader(fin)\n",
nkita
nkita
nkita
    "        for lineData in csvData:\n",
nkita
nkita
nkita
    "            print(lineData)\n",
nkita
nkita
nkita
    "            break"
nkita
nkita
nkita
   ]
nkita
nkita
nkita
  },
nkita
nkita
nkita
  {
nkita
nkita
nkita
   "cell_type": "code",
nkita
nkita
nkita
   "execution_count": 16,
nkita
nkita
nkita
   "id": "3341a01f",
nkita
nkita
nkita
   "metadata": {},
nkita
nkita
nkita
   "outputs": [
nkita
nkita
nkita
    {
nkita
nkita
nkita
     "name": "stderr",
nkita
nkita
nkita
     "output_type": "stream",
nkita
nkita
nkita
     "text": [
nkita
nkita
nkita
      "100%|███████████████████████████████████████████████████| 1/1 [00:00<00:00,  4.08it/s]\n",
nkita
nkita
nkita
      "100%|██████████████████████████████████████████| 4669/4669 [00:00<00:00, 70437.36it/s]\n"
nkita
nkita
nkita
     ]
nkita
nkita
nkita
    }
nkita
nkita
nkita
   ],
nkita
nkita
nkita
   "source": [
nkita
nkita
nkita
    "writeData = dict()\n",
nkita
nkita
nkita
    "titleSet = set()\n",
nkita
nkita
nkita
    "for file in tqdm.tqdm(files):\n",
nkita
nkita
nkita
    "    with open(file, mode ='r') as fin:\n",
nkita
nkita
nkita
    "        csvData = csv.reader(fin)\n",
nkita
nkita
nkita
    "        for i,lineData in enumerate(csvData):\n",
nkita
nkita
nkita
    "            if i == 0:\n",
nkita
nkita
nkita
    "                continue\n",
nkita
nkita
nkita
    "            lineTitle = lineData[0].split(' ')[1]\n",
nkita
nkita
nkita
    "            if lineTitle in titleSet:\n",
nkita
nkita
nkita
    "                writeData[lineTitle].append([lineTitle, lineData[1],lineData[3]])\n",
nkita
nkita
nkita
    "            else:\n",
nkita
nkita
nkita
    "                writeData[lineTitle] = [[lineTitle, lineData[1],lineData[3]]]\n",
nkita
nkita
nkita
    "                titleSet.add(lineTitle)\n",
nkita
nkita
nkita
    "with open('factver.csv', 'w', encoding='utf-8') as csvfile:\n",
nkita
nkita
nkita
    "    csvwriter = csv.writer(csvfile)\n",
nkita
nkita
nkita
    "    for key in tqdm.tqdm(writeData.keys()):\n",
nkita
nkita
nkita
    "        csvwriter.writerows(writeData[key])            "
nkita
nkita
nkita
   ]
nkita
nkita
nkita
  },
nkita
nkita
nkita
  {
nkita
nkita
nkita
   "cell_type": "markdown",
nkita
nkita
nkita
   "metadata": {},
nkita
nkita
nkita
   "source": [
nkita
nkita
nkita
    "### Fix pred and ref text in mt5_intersection"
nkita
nkita
nkita
   ]
nkita
nkita
nkita
  },
nkita
nkita
nkita
  {
nkita
nkita
nkita
   "cell_type": "code",
nkita
nkita
nkita
   "execution_count": 2,
nkita
nkita
nkita
   "metadata": {},
nkita
nkita
nkita
   "outputs": [
nkita
nkita
nkita
    {
nkita
nkita
nkita
     "name": "stdout",
nkita
nkita
nkita
     "output_type": "stream",
nkita
nkita
nkita
     "text": [
nkita
nkita
nkita
      "Files:\n",
nkita
nkita
nkita
      "['mt5_intersection_mt5-smalldbb2bec7.csv', 'mt5_intersection_mt5-small083cce06.csv', 'mt5_intersection_mt5-smallba52c9de.csv', 'mt5_intersection_mt5-smallac1104aa.csv']\n"
nkita
nkita
nkita
     ]
nkita
nkita
nkita
    }
nkita
nkita
nkita
   ],
nkita
nkita
nkita
   "source": [
nkita
nkita
nkita
    "base_dir = 'inference/'\n",
nkita
nkita
nkita
    "out_dir = 'inference_fixed/'\n",
nkita
nkita
nkita
    "files_list = os.listdir(base_dir)\n",
nkita
nkita
nkita
    "files = []\n",
nkita
nkita
nkita
    "for file in files_list:\n",
nkita
nkita
nkita
    "    if('mt5_intersection' in file):\n",
nkita
nkita
nkita
    "        files.append(file)\n",
nkita
nkita
nkita
    "print(\"Files:\")\n",
nkita
nkita
nkita
    "print(files)"
nkita
nkita
nkita
   ]
nkita
nkita
nkita
  },
nkita
nkita
nkita
  {
nkita
nkita
nkita
   "cell_type": "code",
nkita
nkita
nkita
   "execution_count": 3,
nkita
nkita
nkita
   "metadata": {},
nkita
nkita
nkita
   "outputs": [
nkita
nkita
nkita
    {
nkita
nkita
nkita
     "name": "stdout",
nkita
nkita
nkita
     "output_type": "stream",
nkita
nkita
nkita
     "text": [
nkita
nkita
nkita
      "['input_texts', 'lang', 'ref_text', 'pred_text']\n",
nkita
nkita
nkita
      "['input_texts', 'lang', 'ref_text', 'pred_text']\n",
nkita
nkita
nkita
      "['input_texts', 'lang', 'ref_text', 'pred_text']\n",
nkita
nkita
nkita
      "['input_texts', 'lang', 'ref_text', 'pred_text']\n"
nkita
nkita
nkita
     ]
nkita
nkita
nkita
    }
nkita
nkita
nkita
   ],
nkita
nkita
nkita
   "source": [
nkita
nkita
nkita
    "for file in files:\n",
nkita
nkita
nkita
    "    with open(os.path.join(base_dir,file), mode ='r') as fin:\n",
nkita
nkita
nkita
    "        csvData = csv.reader(fin)\n",
nkita
nkita
nkita
    "        for lineData in csvData:\n",
nkita
nkita
nkita
    "            print(lineData)\n",
nkita
nkita
nkita
    "            break"
nkita
nkita
nkita
   ]
nkita
nkita
nkita
  },
nkita
nkita
nkita
  {
nkita
nkita
nkita
   "cell_type": "code",
nkita
nkita
nkita
   "execution_count": 4,
nkita
nkita
nkita
   "metadata": {},
nkita
nkita
nkita
   "outputs": [
nkita
nkita
nkita
    {
nkita
nkita
nkita
     "name": "stderr",
nkita
nkita
nkita
     "output_type": "stream",
nkita
nkita
nkita
     "text": [
nkita
nkita
nkita
      "100%|██████████| 4/4 [00:00<00:00, 47.84it/s]\n"
nkita
nkita
nkita
     ]
nkita
nkita
nkita
    }
nkita
nkita
nkita
   ],
nkita
nkita
nkita
   "source": [
nkita
nkita
nkita
    "for file in tqdm.tqdm(files):\n",
nkita
nkita
nkita
    "    fin = open(os.path.join(base_dir, file), mode ='r')\n",
nkita
nkita
nkita
    "    fout = open(os.path.join(out_dir, file), mode = 'w',encoding='utf-8')\n",
nkita
nkita
nkita
    "    csvWriter = csv.writer(fout)\n",
nkita
nkita
nkita
    "    csvData = csv.reader(fin)\n",
nkita
nkita
nkita
    "    for i,lineData in enumerate(csvData):\n",
nkita
nkita
nkita
    "        if i == 0:\n",
nkita
nkita
nkita
    "            csvWriter.writerow(lineData)\n",
nkita
nkita
nkita
    "            continue\n",
nkita
nkita
nkita
    "        refText = lineData[2].lower()\n",
nkita
nkita
nkita
    "        for punc in string.punctuation:\n",
nkita
nkita
nkita
    "            refText = refText.replace(punc,' ')\n",
nkita
nkita
nkita
    "        predText = re.sub(r' <sep>',r'', lineData[3][5:].lower())\n",
nkita
nkita
nkita
    "        for punc in string.punctuation:\n",
nkita
nkita
nkita
    "            predText = predText.replace(punc,' ')\n",
nkita
nkita
nkita
    "        csvWriter.writerow([lineData[0],lineData[1],refText,predText])\n",
nkita
nkita
nkita
    "    fin.close()\n",
nkita
nkita
nkita
    "    fout.close()"
nkita
nkita
nkita
   ]
nkita
nkita
nkita
  },
nkita
nkita
nkita
  {
nkita
nkita
nkita
   "cell_type": "code",
nkita
nkita
nkita
   "execution_count": 7,
nkita
nkita
nkita
   "metadata": {},
nkita
nkita
nkita
   "outputs": [
nkita
nkita
nkita
    {
nkita
nkita
nkita
     "name": "stderr",
nkita
nkita
nkita
     "output_type": "stream",
nkita
nkita
nkita
     "text": [
nkita
nkita
nkita
      "4it [00:00, 130.30it/s]\n"
nkita
nkita
nkita
     ]
nkita
nkita
nkita
    }
nkita
nkita
nkita
   ],
nkita
nkita
nkita
   "source": [
nkita
nkita
nkita
    "fout = open(\"final_article.csv\", mode = 'w',encoding='utf-8')\n",
nkita
nkita
nkita
    "csvWriter = csv.writer(fout)\n",
nkita
nkita
nkita
    "for i,file in tqdm.tqdm(enumerate(files)):\n",
nkita
nkita
nkita
    "    with open(os.path.join(out_dir,file), mode ='r') as fin:\n",
nkita
nkita
nkita
    "        csvData = csv.reader(fin)\n",
nkita
nkita
nkita
    "        for j,lineData in enumerate(csvData):\n",
nkita
nkita
nkita
    "            if i == 0 and j == 0:\n",
nkita
nkita
nkita
    "                csvWriter.writerow(lineData)\n",
nkita
nkita
nkita
    "            elif j == 0:\n",
nkita
nkita
nkita
    "                continue\n",
nkita
nkita
nkita
    "            csvWriter.writerow(lineData)            \n",
nkita
nkita
nkita
    "fout.close()"
nkita
nkita
nkita
   ]
nkita
nkita
nkita
  },
nkita
nkita
nkita
  {
nkita
nkita
nkita
   "cell_type": "code",
nkita
nkita
nkita
   "execution_count": null,
nkita
nkita
nkita
   "metadata": {},
nkita
nkita
nkita
   "outputs": [],
nkita
nkita
nkita
   "source": []
nkita
nkita
nkita
  }
nkita
nkita
nkita
 ],
nkita
nkita
nkita
 "metadata": {
nkita
nkita
nkita
  "kernelspec": {
nkita
nkita
nkita
   "display_name": "Python 3 (ipykernel)",
nkita
nkita
nkita
   "language": "python",
nkita
nkita
nkita
   "name": "python3"
nkita
nkita
nkita
  },
nkita
nkita
nkita
  "language_info": {
nkita
nkita
nkita
   "codemirror_mode": {
nkita
nkita
nkita
    "name": "ipython",
nkita
nkita
nkita
    "version": 3
nkita
nkita
nkita
   },
nkita
nkita
nkita
   "file_extension": ".py",
nkita
nkita
nkita
   "mimetype": "text/x-python",
nkita
nkita
nkita
   "name": "python",
nkita
nkita
nkita
   "nbconvert_exporter": "python",
nkita
nkita
nkita
   "pygments_lexer": "ipython3",
nkita
nkita
nkita
   "version": "3.9.7"
nkita
nkita
nkita
  }
nkita
nkita
nkita
 },
nkita
nkita
nkita
 "nbformat": 4,
nkita
nkita
nkita
 "nbformat_minor": 5
nkita
nkita
nkita
}
nkita
nkita
nkita
