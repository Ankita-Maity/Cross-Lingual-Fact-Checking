{



 "cells": [



  {



   "cell_type": "code",



   "execution_count": 1,



   "id": "f399816a",



   "metadata": {},



   "outputs": [],



   "source": [



    "import pandas as pa\n",



    "import os\n",



    "import csv\n",



    "import tqdm\n",



    "import string\n",



    "import re"



   ]



  },



  {



   "cell_type": "markdown",



   "metadata": {},



   "source": [



    "### Merge data from mt5_intersection and mt5_factver to one file"



   ]



  },



  {



   "cell_type": "code",



   "execution_count": 14,



   "id": "89ce4f6c",



   "metadata": {},



   "outputs": [



    {



     "name": "stdout",



     "output_type": "stream",



     "text": [



      "Files:\n",



      "['mt5_factver_inference_mt5-small.csv']\n"



     ]



    }



   ],



   "source": [



    "files_list = os.listdir('.')\n",



    "files = []\n",



    "for file in files_list:\n",



    "    if('mt5_factver' in file):\n",



    "        files.append(file)\n",



    "print(\"Files:\")\n",



    "print(files)"



   ]



  },



  {



   "cell_type": "code",



   "execution_count": 15,



   "id": "786d3915",



   "metadata": {},



   "outputs": [



    {



     "name": "stdout",



     "output_type": "stream",



     "text": [



      "['input_texts', 'lang', 'ref_text', 'pred_text']\n"



     ]



    }



   ],



   "source": [



    "title = \"\"\n",



    "for file in files:\n",



    "    with open(file, mode ='r') as fin:\n",



    "        csvData = csv.reader(fin)\n",



    "        for lineData in csvData:\n",



    "            print(lineData)\n",



    "            break"



   ]



  },



  {



   "cell_type": "code",



   "execution_count": 16,



   "id": "3341a01f",



   "metadata": {},



   "outputs": [



    {



     "name": "stderr",



     "output_type": "stream",



     "text": [



      "100%|███████████████████████████████████████████████████| 1/1 [00:00<00:00,  4.08it/s]\n",



      "100%|██████████████████████████████████████████| 4669/4669 [00:00<00:00, 70437.36it/s]\n"



     ]



    }



   ],



   "source": [



    "writeData = dict()\n",



    "titleSet = set()\n",



    "for file in tqdm.tqdm(files):\n",



    "    with open(file, mode ='r') as fin:\n",



    "        csvData = csv.reader(fin)\n",



    "        for i,lineData in enumerate(csvData):\n",



    "            if i == 0:\n",



    "                continue\n",



    "            lineTitle = lineData[0].split(' ')[1]\n",



    "            if lineTitle in titleSet:\n",



    "                writeData[lineTitle].append([lineTitle, lineData[1],lineData[3]])\n",



    "            else:\n",



    "                writeData[lineTitle] = [[lineTitle, lineData[1],lineData[3]]]\n",



    "                titleSet.add(lineTitle)\n",



    "with open('factver.csv', 'w', encoding='utf-8') as csvfile:\n",



    "    csvwriter = csv.writer(csvfile)\n",



    "    for key in tqdm.tqdm(writeData.keys()):\n",



    "        csvwriter.writerows(writeData[key])            "



   ]



  },



  {



   "cell_type": "markdown",



   "metadata": {},



   "source": [



    "### Fix pred and ref text in mt5_intersection"



   ]



  },



  {



   "cell_type": "code",



   "execution_count": 2,



   "metadata": {},



   "outputs": [



    {



     "name": "stdout",



     "output_type": "stream",



     "text": [



      "Files:\n",



      "['mt5_intersection_mt5-smalldbb2bec7.csv', 'mt5_intersection_mt5-small083cce06.csv', 'mt5_intersection_mt5-smallba52c9de.csv', 'mt5_intersection_mt5-smallac1104aa.csv']\n"



     ]



    }



   ],



   "source": [



    "base_dir = 'inference/'\n",



    "out_dir = 'inference_fixed/'\n",



    "files_list = os.listdir(base_dir)\n",



    "files = []\n",



    "for file in files_list:\n",



    "    if('mt5_intersection' in file):\n",



    "        files.append(file)\n",



    "print(\"Files:\")\n",



    "print(files)"



   ]



  },



  {



   "cell_type": "code",



   "execution_count": 3,



   "metadata": {},



   "outputs": [



    {



     "name": "stdout",



     "output_type": "stream",



     "text": [



      "['input_texts', 'lang', 'ref_text', 'pred_text']\n",



      "['input_texts', 'lang', 'ref_text', 'pred_text']\n",



      "['input_texts', 'lang', 'ref_text', 'pred_text']\n",



      "['input_texts', 'lang', 'ref_text', 'pred_text']\n"



     ]



    }



   ],



   "source": [



    "for file in files:\n",



    "    with open(os.path.join(base_dir,file), mode ='r') as fin:\n",



    "        csvData = csv.reader(fin)\n",



    "        for lineData in csvData:\n",



    "            print(lineData)\n",



    "            break"



   ]



  },



  {



   "cell_type": "code",



   "execution_count": 4,



   "metadata": {},



   "outputs": [



    {



     "name": "stderr",



     "output_type": "stream",



     "text": [



      "100%|██████████| 4/4 [00:00<00:00, 47.84it/s]\n"



     ]



    }



   ],



   "source": [



    "for file in tqdm.tqdm(files):\n",



    "    fin = open(os.path.join(base_dir, file), mode ='r')\n",



    "    fout = open(os.path.join(out_dir, file), mode = 'w',encoding='utf-8')\n",



    "    csvWriter = csv.writer(fout)\n",



    "    csvData = csv.reader(fin)\n",



    "    for i,lineData in enumerate(csvData):\n",



    "        if i == 0:\n",



    "            csvWriter.writerow(lineData)\n",



    "            continue\n",



    "        refText = lineData[2].lower()\n",



    "        for punc in string.punctuation:\n",



    "            refText = refText.replace(punc,' ')\n",



    "        predText = re.sub(r' <sep>',r'', lineData[3][5:].lower())\n",



    "        for punc in string.punctuation:\n",



    "            predText = predText.replace(punc,' ')\n",



    "        csvWriter.writerow([lineData[0],lineData[1],refText,predText])\n",



    "    fin.close()\n",



    "    fout.close()"



   ]



  },



  {



   "cell_type": "code",



   "execution_count": 7,



   "metadata": {},



   "outputs": [



    {



     "name": "stderr",



     "output_type": "stream",



     "text": [



      "4it [00:00, 130.30it/s]\n"



     ]



    }



   ],



   "source": [



    "fout = open(\"final_article.csv\", mode = 'w',encoding='utf-8')\n",



    "csvWriter = csv.writer(fout)\n",



    "for i,file in tqdm.tqdm(enumerate(files)):\n",



    "    with open(os.path.join(out_dir,file), mode ='r') as fin:\n",



    "        csvData = csv.reader(fin)\n",



    "        for j,lineData in enumerate(csvData):\n",



    "            if i == 0 and j == 0:\n",



    "                csvWriter.writerow(lineData)\n",



    "            elif j == 0:\n",



    "                continue\n",



    "            csvWriter.writerow(lineData)            \n",



    "fout.close()"



   ]



  },



  {



   "cell_type": "code",



   "execution_count": null,



   "metadata": {},



   "outputs": [],



   "source": []



  }



 ],



 "metadata": {



  "kernelspec": {



   "display_name": "Python 3 (ipykernel)",



   "language": "python",



   "name": "python3"



  },



  "language_info": {



   "codemirror_mode": {



    "name": "ipython",



    "version": 3



   },



   "file_extension": ".py",



   "mimetype": "text/x-python",



   "name": "python",



   "nbconvert_exporter": "python",



   "pygments_lexer": "ipython3",



   "version": "3.9.7"



  }



 },



 "nbformat": 4,



 "nbformat_minor": 5



}



